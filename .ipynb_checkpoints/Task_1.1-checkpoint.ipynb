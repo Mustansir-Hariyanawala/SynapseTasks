{
 "cells": [
  {
   "cell_type": "code",
   "execution_count": 1,
   "id": "93f55dee-83fe-497d-a31b-d20ace551795",
   "metadata": {},
   "outputs": [],
   "source": [
    "import operator\n",
    "import time\n",
    "from itertools import combinations"
   ]
  },
  {
   "cell_type": "code",
   "execution_count": 2,
   "id": "5e5996e2-ef57-4c8c-8cb0-2c7c69a0d9c9",
   "metadata": {},
   "outputs": [],
   "source": [
    "Kevin = {\"Halsey\", \"Taylor Swift\", \"Mitski\" , \"Joji\", \"Shawn Mendes\", \"Sabrina Carpenter\", \"Nicky Minaj\", \"Conan Gray\", \"One Direction\", \"Justin Bieber\"}\n",
    "\n",
    "Stuart = {\"Kendrick Lamar\", \"Steve Lacy\", \"Tyler the Creator\", \"Joji\", \"TheWeeknd\", \"Coldplay\", \"Kanye West\", \"Travis Scott\", \"Frank Ocean\", \"Brent Faiyaz\"}\n",
    "\n",
    "Bob = {\"Conan Gray\", \"Joji\", \"Dove Cameron\", \"Mitski\", \"Arctic Monkeys\", \"Steve Lacy\", \"Kendrick Lamar\", \"Isabel LaRosa\", \"Shawn Mendes\", \"Coldplay\", \"Lauv\"}\n",
    "\n",
    "Edith = {\"Metallica\", \"Billie Eilish\", \"TheWeeknd\", \"Mitski\", \"NF\", \"Conan Gray\", \"Kendrick Lamar\", \"Nicky Minaj\", \"Kanye West\", \"Coldplay\"}"
   ]
  },
  {
   "cell_type": "code",
   "execution_count": 3,
   "id": "fef28fc8-f0fd-4946-97de-22d9740619bc",
   "metadata": {},
   "outputs": [],
   "source": [
    "paired_sets = list(combinations([Kevin, Stuart, Bob, Edith], 2))\n",
    "\n",
    "pair_intersection = list(len(first_set & second_set) for (first_set, second_set) in paired_sets)\n",
    "\n",
    "pair_list_size = list((len(first_set), len(second_set)) for (first_set, second_set) in paired_sets)\n",
    "\n",
    "pair_name = [\"Kevin-Stuart\",\n",
    "             \"Kevin-Bob\",\n",
    "             \"Kevin-Edith\",\n",
    "             \"Stuart-Bob\",\n",
    "             \"Stuart-Edith\",\n",
    "             \"Bob-Edith\"]"
   ]
  },
  {
   "cell_type": "code",
   "execution_count": 4,
   "id": "ff38fd86-a370-416d-a8fb-8157e053a91e",
   "metadata": {},
   "outputs": [
    {
     "name": "stdout",
     "output_type": "stream",
     "text": [
      "[(10, 10), (10, 11), (10, 10), (10, 11), (10, 10), (11, 10)]\n"
     ]
    }
   ],
   "source": [
    "print(pair_list_size)"
   ]
  },
  {
   "cell_type": "code",
   "execution_count": 5,
   "id": "c50d2285-1982-4699-8e03-3784489d86ba",
   "metadata": {},
   "outputs": [
    {
     "name": "stdout",
     "output_type": "stream",
     "text": [
      "['Kevin-Bob', 'Kevin-Edith', 'Stuart-Bob', 'Stuart-Edith', 'Bob-Edith']\n"
     ]
    }
   ],
   "source": [
    "\n",
    "pair_similarity_percent = [name for name,(index0, index1), intersect in zip(pair_name, pair_list_size, pair_intersection)\n",
    "                           if intersect * 100 / index0 >= 30.0 and intersect * 100/ index1 >=30]\n",
    "\n",
    "print(pair_similarity_percent)"
   ]
  },
  {
   "cell_type": "code",
   "execution_count": 6,
   "id": "eb4d60e8-604d-451e-91ea-a252ef8625af",
   "metadata": {},
   "outputs": [
    {
     "ename": "IndentationError",
     "evalue": "expected an indented block after function definition on line 1 (227902240.py, line 3)",
     "output_type": "error",
     "traceback": [
      "\u001b[1;36m  Cell \u001b[1;32mIn[6], line 3\u001b[1;36m\u001b[0m\n\u001b[1;33m    pair_similarity_percent.sort(key = )\u001b[0m\n\u001b[1;37m    ^\u001b[0m\n\u001b[1;31mIndentationError\u001b[0m\u001b[1;31m:\u001b[0m expected an indented block after function definition on line 1\n"
     ]
    }
   ],
   "source": [
    "def sorting_function():\n",
    "    \n",
    "pair_similarity_percent.sort(key = )"
   ]
  },
  {
   "cell_type": "code",
   "execution_count": null,
   "id": "34fe5a94-22f8-49fc-91cc-88bcb3822af0",
   "metadata": {},
   "outputs": [],
   "source": [
    "print(pair_similarity_percent)"
   ]
  },
  {
   "cell_type": "code",
   "execution_count": null,
   "id": "d02c10cb-40f4-45b8-9b6e-eedd7ce5bce3",
   "metadata": {},
   "outputs": [],
   "source": []
  }
 ],
 "metadata": {
  "kernelspec": {
   "display_name": "Python 3 (ipykernel)",
   "language": "python",
   "name": "python3"
  },
  "language_info": {
   "codemirror_mode": {
    "name": "ipython",
    "version": 3
   },
   "file_extension": ".py",
   "mimetype": "text/x-python",
   "name": "python",
   "nbconvert_exporter": "python",
   "pygments_lexer": "ipython3",
   "version": "3.12.3"
  }
 },
 "nbformat": 4,
 "nbformat_minor": 5
}
