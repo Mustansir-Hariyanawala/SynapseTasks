{
 "cells": [
  {
   "cell_type": "code",
   "execution_count": 1,
   "id": "03227df2-f90b-474f-b506-c391519d1d88",
   "metadata": {},
   "outputs": [],
   "source": [
    "gadgets = [\n",
    "\n",
    "(\"Explosive Batarangs\", 3, True),\n",
    "(\"Batarangs\", 5, True),\n",
    "(\"Smoke Pellets\", 0, False),\n",
    "(\"Tear Gas Grenades\", 2, True),\n",
    "(\"Night Vision Goggles\", 1, True),\n",
    "(\"Batclaw\", 0, False),\n",
    "(\"Grapple Gun\", 3, True),\n",
    "(\"Batsignal\", 0, False),\n",
    "(\"Utility Belt\", 1, True),\n",
    "(\"Batmobile Tires\", 4, True)\n",
    "]"
   ]
  },
  {
   "cell_type": "code",
   "execution_count": 2,
   "id": "eab655d9-cf92-4b42-90af-627af0e2b26c",
   "metadata": {},
   "outputs": [
    {
     "name": "stdout",
     "output_type": "stream",
     "text": [
      "[('Explosive Batarangs', 3, True), ('Batarangs', 5, True), ('Tear Gas Grenades', 2, True), ('Night Vision Goggles', 1, True), ('Grapple Gun', 3, True), ('Utility Belt', 1, True), ('Batmobile Tires', 4, True), ('Smoke Pellets', 0, False), ('Batclaw', 0, False), ('Batsignal', 0, False)]\n"
     ]
    }
   ],
   "source": [
    "def sorting_with_availability(gadg):\n",
    "    return gadg[2]\n",
    "\n",
    "gadgets.sort(reverse = True, key = sorting_with_availability)\n",
    "\n",
    "print(gadgets)"
   ]
  },
  {
   "cell_type": "code",
   "execution_count": 3,
   "id": "63db408c-51d8-4940-952e-ebc9dea5e0bd",
   "metadata": {},
   "outputs": [
    {
     "name": "stdout",
     "output_type": "stream",
     "text": [
      "[('Batarangs', 5, True), ('Batmobile Tires', 4, True), ('Explosive Batarangs', 3, True), ('Grapple Gun', 3, True), ('Tear Gas Grenades', 2, True), ('Night Vision Goggles', 1, True), ('Utility Belt', 1, True), ('Smoke Pellets', 0, False), ('Batclaw', 0, False), ('Batsignal', 0, False)]\n"
     ]
    }
   ],
   "source": [
    "def sorting_with_numbers(gadg):\n",
    "    if gadg[2] == True:\n",
    "        return gadg[1]\n",
    "    else:\n",
    "        return gadg[1]\n",
    "\n",
    "gadgets.sort(reverse = True, key = sorting_with_numbers)\n",
    "\n",
    "print(gadgets)"
   ]
  },
  {
   "cell_type": "code",
   "execution_count": 4,
   "id": "e3e5114a-aa48-4db9-9a3d-77aca4d2e86b",
   "metadata": {},
   "outputs": [
    {
     "name": "stdout",
     "output_type": "stream",
     "text": [
      "(5, 4, 3, 3, 2, 1, 1, 0, 0, 0)\n"
     ]
    }
   ],
   "source": [
    "_, item_amt_list ,_ = zip(*gadgets)\n",
    "max_val = max(item_amt_list)\n",
    "min_val = min(item_amt_list)\n",
    "print(item_amt_list)"
   ]
  },
  {
   "cell_type": "code",
   "execution_count": 5,
   "id": "0203f2a2-6302-4d7c-acd6-1ceb4e8f5d0f",
   "metadata": {},
   "outputs": [
    {
     "name": "stdout",
     "output_type": "stream",
     "text": [
      "[[('Batarangs', 5, True)], [('Batmobile Tires', 4, True)], [('Explosive Batarangs', 3, True), ('Grapple Gun', 3, True)], [('Tear Gas Grenades', 2, True)], [('Night Vision Goggles', 1, True), ('Utility Belt', 1, True)], [('Batclaw', 0, False), ('Batsignal', 0, False), ('Smoke Pellets', 0, False)]]\n"
     ]
    }
   ],
   "source": [
    "sorted_gadgets = []\n",
    "for i in reversed(range(min_val, max_val + 1)):\n",
    "    temp_sorted_gadgets = [gadg for gadg in gadgets if gadg[1] == i]\n",
    "    temp_sorted_gadgets.sort(key = lambda gadg : gadg[0])\n",
    "    sorted_gadgets.append(temp_sorted_gadgets)\n",
    "gadgets =  sorted_gadgets\n",
    "print(gadgets)"
   ]
  }
 ],
 "metadata": {
  "kernelspec": {
   "display_name": "Python 3 (ipykernel)",
   "language": "python",
   "name": "python3"
  },
  "language_info": {
   "codemirror_mode": {
    "name": "ipython",
    "version": 3
   },
   "file_extension": ".py",
   "mimetype": "text/x-python",
   "name": "python",
   "nbconvert_exporter": "python",
   "pygments_lexer": "ipython3",
   "version": "3.12.3"
  }
 },
 "nbformat": 4,
 "nbformat_minor": 5
}
