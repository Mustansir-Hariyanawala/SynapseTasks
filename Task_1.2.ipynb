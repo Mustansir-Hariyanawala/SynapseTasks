{
 "cells": [
  {
   "cell_type": "code",
   "execution_count": null,
   "id": "03227df2-f90b-474f-b506-c391519d1d88",
   "metadata": {},
   "outputs": [],
   "source": [
    "gadgets = [\n",
    "\n",
    "(\"Explosive Batarangs\", 3, True),\n",
    "(\"Batarangs\", 5, True),\n",
    "(\"Smoke Pellets\", 0, False),\n",
    "(\"Tear Gas Grenades\", 2, True),\n",
    "(\"Night Vision Goggles\", 1, True),\n",
    "(\"Batclaw\", 0, False),\n",
    "(\"Grapple Gun\", 3, True),\n",
    "(\"Batsignal\", 0, False),\n",
    "(\"Utility Belt\", 1, True),\n",
    "(\"Batmobile Tires\", 4, True)\n",
    "]"
   ]
  }
 ],
 "metadata": {
  "kernelspec": {
   "display_name": "Python 3 (ipykernel)",
   "language": "python",
   "name": "python3"
  },
  "language_info": {
   "codemirror_mode": {
    "name": "ipython",
    "version": 3
   },
   "file_extension": ".py",
   "mimetype": "text/x-python",
   "name": "python",
   "nbconvert_exporter": "python",
   "pygments_lexer": "ipython3",
   "version": "3.12.3"
  }
 },
 "nbformat": 4,
 "nbformat_minor": 5
}
