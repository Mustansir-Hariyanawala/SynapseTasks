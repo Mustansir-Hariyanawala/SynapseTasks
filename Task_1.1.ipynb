{
 "cells": [
  {
   "cell_type": "code",
   "execution_count": 1,
   "id": "93f55dee-83fe-497d-a31b-d20ace551795",
   "metadata": {},
   "outputs": [],
   "source": [
    "import operator\n",
    "import time\n",
    "from itertools import combinations"
   ]
  },
  {
   "cell_type": "code",
   "execution_count": 2,
   "id": "5e5996e2-ef57-4c8c-8cb0-2c7c69a0d9c9",
   "metadata": {},
   "outputs": [],
   "source": [
    "Kevin = {\"Halsey\", \"Taylor Swift\", \"Mitski\" , \"Joji\", \"Shawn Mendes\", \"Sabrina Carpenter\", \"Nicky Minaj\", \"Conan Gray\", \"One Direction\", \"Justin Bieber\"}\n",
    "\n",
    "Stuart = {\"Kendrick Lamar\", \"Steve Lacy\", \"Tyler the Creator\", \"Joji\", \"TheWeeknd\", \"Coldplay\", \"Kanye West\", \"Travis Scott\", \"Frank Ocean\", \"Brent Faiyaz\"}\n",
    "\n",
    "Bob = {\"Conan Gray\", \"Joji\", \"Dove Cameron\", \"Mitski\", \"Arctic Monkeys\", \"Steve Lacy\", \"Kendrick Lamar\", \"Isabel LaRosa\", \"Shawn Mendes\", \"Coldplay\", \"Lauv\"}\n",
    "\n",
    "Edith = {\"Metallica\", \"Billie Eilish\", \"TheWeeknd\", \"Mitski\", \"NF\", \"Conan Gray\", \"Kendrick Lamar\", \"Nicky Minaj\", \"Kanye West\", \"Coldplay\"}"
   ]
  },
  {
   "cell_type": "code",
   "execution_count": 3,
   "id": "fef28fc8-f0fd-4946-97de-22d9740619bc",
   "metadata": {},
   "outputs": [],
   "source": [
    "#Variable (data) needed for the topic\n",
    "paired_sets = list(combinations([Kevin, Stuart, Bob, Edith], 2))\n",
    "\n",
    "pair_intersection = list(len(first_set & second_set) for (first_set, second_set) in paired_sets)\n",
    "\n",
    "pair_list_size = list((len(first_set), len(second_set)) for (first_set, second_set) in paired_sets)\n",
    "\n",
    "pair_name = [\"Kevin-Stuart\",\n",
    "             \"Kevin-Bob\",\n",
    "             \"Kevin-Edith\",\n",
    "             \"Stuart-Bob\",\n",
    "             \"Stuart-Edith\",\n",
    "             \"Bob-Edith\"]\n",
    "\n",
    "pair_list_avg = [(intersection * 100 / pair0 + intersection * 100 / pair1) / 2 \n",
    "                 for intersection, (pair0, pair1) in zip(pair_intersection, pair_list_size)]"
   ]
  },
  {
   "cell_type": "code",
   "execution_count": 4,
   "id": "eb4d60e8-604d-451e-91ea-a252ef8625af",
   "metadata": {},
   "outputs": [
    {
     "name": "stdout",
     "output_type": "stream",
     "text": [
      "[('Kevin-Stuart', 10.0), ('Kevin-Bob', 38.18181818181819), ('Kevin-Edith', 30.0), ('Stuart-Bob', 38.18181818181819), ('Stuart-Edith', 40.0), ('Bob-Edith', 38.18181818181819)]\n",
      "('Kevin-Stuart', 'Kevin-Edith', 'Kevin-Bob', 'Stuart-Bob', 'Bob-Edith', 'Stuart-Edith')\n"
     ]
    }
   ],
   "source": [
    "zipped_pairs = list(zip(pair_name, pair_list_avg))\n",
    "print(zipped_pairs)\n",
    "\n",
    "sorted_pair_name, _ = zip(*sorted(zipped_pairs, key = lambda names : names[1]))\n",
    "print(sorted_pair_name) "
   ]
  },
  {
   "cell_type": "code",
   "execution_count": 6,
   "id": "c50d2285-1982-4699-8e03-3784489d86ba",
   "metadata": {},
   "outputs": [
    {
     "name": "stdout",
     "output_type": "stream",
     "text": [
      "['Kevin-Edith', 'Kevin-Bob', 'Stuart-Bob', 'Bob-Edith', 'Stuart-Edith']\n"
     ]
    }
   ],
   "source": [
    "\n",
    "pair_similarity_percent = [name for name,(index0, index1), intersect in zip(sorted_pair_name, pair_list_size, pair_intersection)\n",
    "                           if intersect * 100 / index0 >= 30.0 and intersect * 100/ index1 >=30]\n",
    "\n",
    "print(pair_similarity_percent)"
   ]
  },
  {
   "cell_type": "code",
   "execution_count": null,
   "id": "95e86ddd-8cb0-45c3-99e3-cb647b69bc24",
   "metadata": {},
   "outputs": [],
   "source": []
  }
 ],
 "metadata": {
  "kernelspec": {
   "display_name": "Python 3 (ipykernel)",
   "language": "python",
   "name": "python3"
  },
  "language_info": {
   "codemirror_mode": {
    "name": "ipython",
    "version": 3
   },
   "file_extension": ".py",
   "mimetype": "text/x-python",
   "name": "python",
   "nbconvert_exporter": "python",
   "pygments_lexer": "ipython3",
   "version": "3.12.3"
  }
 },
 "nbformat": 4,
 "nbformat_minor": 5
}
