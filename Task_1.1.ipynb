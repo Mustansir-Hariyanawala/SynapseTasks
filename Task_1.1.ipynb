{
 "cells": [
  {
   "cell_type": "code",
   "execution_count": null,
   "id": "93f55dee-83fe-497d-a31b-d20ace551795",
   "metadata": {},
   "outputs": [],
   "source": [
    "from itertools import combinations"
   ]
  },
  {
   "cell_type": "code",
   "execution_count": null,
   "id": "5e5996e2-ef57-4c8c-8cb0-2c7c69a0d9c9",
   "metadata": {},
   "outputs": [],
   "source": [
    "Kevin = {\"Halsey\", \"Taylor Swift\", \"Mitski\" , \"Joji\", \"Shawn Mendes\", \"Sabrina Carpenter\", \"Nicky Minaj\", \"Conan Gray\", \"One Direction\", \"Justin Bieber\"}\n",
    "\n",
    "Stuart = {\"Kendrick Lamar\", \"Steve Lacy\", \"Tyler the Creator\", \"Joji\", \"TheWeeknd\", \"Coldplay\", \"Kanye West\", \"Travis Scott\", \"Frank Ocean\", \"Brent Faiyaz\"}\n",
    "\n",
    "Bob = {\"Conan Gray\", \"Joji\", \"Dove Cameron\", \"Mitski\", \"Arctic Monkeys\", \"Steve Lacy\", \"Kendrick Lamar\", \"Isabel LaRosa\", \"Shawn Mendes\", \"Coldplay\", \"Lauv\"}\n",
    "\n",
    "Edith = {\"Metallica\", \"Billie Eilish\", \"TheWeeknd\", \"Mitski\", \"NF\", \"Conan Gray\", \"Kendrick Lamar\", \"Nicky Minaj\", \"Kanye West\", \"Coldplay\"}"
   ]
  },
  {
   "cell_type": "code",
   "execution_count": null,
   "id": "fef28fc8-f0fd-4946-97de-22d9740619bc",
   "metadata": {},
   "outputs": [],
   "source": [
    "#Variable (data) needed for the topic\n",
    "paired_sets = list(combinations([Kevin, Stuart, Bob, Edith], 2))\n",
    "\n",
    "pair_intersection = list(len(first_set & second_set) for (first_set, second_set) in paired_sets)\n",
    "print(\"The intersection of each pair: \", pair_intersection)\n",
    "\n",
    "pair_list_size = list((len(first_set), len(second_set)) for (first_set, second_set) in paired_sets)\n",
    "print(\"Individual length in pairs: \", pair_list_size)\n",
    "\n",
    "pair_name = [\"Kevin-Stuart\",\n",
    "             \"Kevin-Bob\",\n",
    "             \"Kevin-Edith\",\n",
    "             \"Stuart-Bob\",\n",
    "             \"Stuart-Edith\",\n",
    "             \"Bob-Edith\"]\n",
    "\n",
    "pair_list1_size = [(intersection * 100 / pair[0]) for intersection, pair in zip(pair_intersection, pair_list_size)]\n",
    "print(\"Overlap percent of DJs in first index: \", pair_list1_size)\n",
    "\n",
    "pair_list2_size = [(intersection * 100 / pair[1]) for intersection, pair in zip(pair_intersection, pair_list_size)]\n",
    "print(\"Overlap percent of DJs in second index: \", pair_list2_size)\n",
    "\n",
    "pair_list_avg = [(list1 + list2)/2 for (list1, list2) in zip(pair_list1_size, pair_list2_size)]\n",
    "print(\"Average of the latter 2: \", pair_list_avg)"
   ]
  },
  {
   "cell_type": "code",
   "execution_count": null,
   "id": "eb4d60e8-604d-451e-91ea-a252ef8625af",
   "metadata": {},
   "outputs": [],
   "source": [
    "#This code snippet deals with sorting the elements based on highest to lowest pairs based on Average of the individual overlapping\n",
    "zipped_pairs = list(zip(pair_name, pair_list_avg, pair_list1_size, pair_list2_size))\n",
    "\n",
    "def sorted_func(name):\n",
    "    return name[1]\n",
    "\n",
    "zipped_pairs.sort(reverse = True, key = sorted_func)\n",
    "\n",
    "print(zipped_pairs)\n",
    "\n",
    "sorted_pair_name, _ , pair_list1_size, pair_list2_size = zip(*zipped_pairs)\n",
    "\n",
    "print(sorted_pair_name, pair_list_size)"
   ]
  },
  {
   "cell_type": "code",
   "execution_count": null,
   "id": "4d28b63d-a542-49fa-bbf9-ed7c5fb559b4",
   "metadata": {},
   "outputs": [],
   "source": [
    "#The final code snippet where the condition of minimum individual overlap is checked\n",
    "pair_similarity_percent = [name for name,list1, list2 in zip(sorted_pair_name, pair_list1_size, pair_list2_size)\n",
    "                           if list1 >= 30.0 and list2 >=30]\n",
    "\n",
    "print(pair_similarity_percent)"
   ]
  },
  {
   "cell_type": "markdown",
   "id": "134866ee-958d-48b3-a3db-060f9a67b67b",
   "metadata": {},
   "source": [
    "The End :)"
   ]
  }
 ],
 "metadata": {
  "kernelspec": {
   "display_name": "Python 3 (ipykernel)",
   "language": "python",
   "name": "python3"
  },
  "language_info": {
   "codemirror_mode": {
    "name": "ipython",
    "version": 3
   },
   "file_extension": ".py",
   "mimetype": "text/x-python",
   "name": "python",
   "nbconvert_exporter": "python",
   "pygments_lexer": "ipython3",
   "version": "3.12.3"
  }
 },
 "nbformat": 4,
 "nbformat_minor": 5
}
