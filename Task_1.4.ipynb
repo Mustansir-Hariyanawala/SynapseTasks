{
 "cells": [
  {
   "cell_type": "markdown",
   "id": "907ac678-a21f-433a-ade9-708eb3f75c6e",
   "metadata": {},
   "source": [
    "Example :\n",
    "Input: customers = [[5,2], [5,4], [10,3],[20,1]]\n",
    "\n",
    "Output: 3.25000"
   ]
  },
  {
   "cell_type": "code",
   "execution_count": 1,
   "id": "dceff060-f80e-403b-b550-9da090c7337b",
   "metadata": {},
   "outputs": [
    {
     "name": "stdout",
     "output_type": "stream",
     "text": [
      "<class 'list'>\n",
      "[[5, 2], [5, 4], [10, 3], [20, 1]]\n"
     ]
    }
   ],
   "source": [
    "customers = [[5,2], [5,4], [10,3],[20,1]]\n",
    "print(type(customers))\n",
    "print(customers)"
   ]
  },
  {
   "cell_type": "code",
   "execution_count": 2,
   "id": "09555c2b-70c7-4dd0-8abd-fe4fae0885be",
   "metadata": {},
   "outputs": [],
   "source": [
    "def avg_waiting_time(customers):\n",
    "    count = 0\n",
    "    waiting_time =[]\n",
    "    current_waiting_time = 0;\n",
    "    for [arrive_time, making_time] in customers:\n",
    "        if arrive_time > count:\n",
    "            count = arrive_time\n",
    "        count+=making_time\n",
    "        waiting_time.append(count - arrive_time)\n",
    "    return sum(waiting_time)/len(waiting_time)\n",
    "\n",
    "#print(avg_waiting_time(customers))"
   ]
  },
  {
   "cell_type": "code",
   "execution_count": 3,
   "id": "023f3d3c-1dce-46ba-acbd-0ce6746a036f",
   "metadata": {},
   "outputs": [
    {
     "name": "stdout",
     "output_type": "stream",
     "text": [
      "3.25\n"
     ]
    }
   ],
   "source": [
    "print(avg_waiting_time(customers))"
   ]
  },
  {
   "cell_type": "code",
   "execution_count": null,
   "id": "3e71a854-60e4-49c1-a1ff-31f4b88b2f56",
   "metadata": {},
   "outputs": [],
   "source": []
  }
 ],
 "metadata": {
  "kernelspec": {
   "display_name": "Python 3 (ipykernel)",
   "language": "python",
   "name": "python3"
  },
  "language_info": {
   "codemirror_mode": {
    "name": "ipython",
    "version": 3
   },
   "file_extension": ".py",
   "mimetype": "text/x-python",
   "name": "python",
   "nbconvert_exporter": "python",
   "pygments_lexer": "ipython3",
   "version": "3.12.3"
  }
 },
 "nbformat": 4,
 "nbformat_minor": 5
}
