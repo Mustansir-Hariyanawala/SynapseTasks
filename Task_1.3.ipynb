{
 "cells": [
  {
   "cell_type": "code",
   "execution_count": 1,
   "id": "d7fa016b-a356-4583-92cc-39cf348bebfe",
   "metadata": {},
   "outputs": [],
   "source": [
    "request_spending = {\n",
    "    \"Mahek\": {\n",
    "    \"balance\": 3000.00,\n",
    "    \"transactions\": [\n",
    "        {\"amount\": -9000.00, \"category\": \"Creatives\"},\n",
    "        {\"amount\": 7000.00, \"category\": \"Sponsor\"},\n",
    "        {\"amount\": -2000.00, \"category\": \"Prize-Money\"}\n",
    "        ]\n",
    "    },\n",
    "    \"Arham\": {\n",
    "    \"balance\": 5000.00,\n",
    "    \"transactions\": [\n",
    "        {\"amount\": 8000.00, \"category\": \"Stalls\"},\n",
    "        {\"amount\": 7500.00, \"category\": \"Seminars\"}\n",
    "        ]\n",
    "    },\n",
    "    \"Unnati\": {\n",
    "    \"balance\": 3500.00,\n",
    "    \"transactions\": [\n",
    "        {\"amount\": -5000.00, \"category\": \"Attraction\"},\n",
    "        {\"amount\": 2500.00, \"category\": \"Promo\"},\n",
    "        {\"amount\": -900.00, \"category\": \"Lighting\"},\n",
    "        {\"amount\": -3000.00, \"category\": \"Games\"}\n",
    "        ]\n",
    "    },\n",
    "    \"Gaurang\": {\n",
    "    \"balance\": 2000.00,\n",
    "    \"transactions\": [\n",
    "        {\"amount\": 1500.00, \"category\": \"Website\"},\n",
    "        {\"amount\": -1000.00, \"category\": \"C2C\"},\n",
    "        {\"amount\": -500.00, \"category\": \"Posters\"}\n",
    "        ]\n",
    "    }\n",
    "}"
   ]
  },
  {
   "cell_type": "code",
   "execution_count": 2,
   "id": "a236da5e-6292-4303-a07d-ed9846218124",
   "metadata": {},
   "outputs": [],
   "source": [
    "def extract_transaction(requestion_spending, account_id):\n",
    "    if account_id in requestion_spending:\n",
    "        transaction_history = request_spending[account_id][\"transactions\"]\n",
    "        return transaction_history\n",
    "    else:\n",
    "        return {}"
   ]
  },
  {
   "cell_type": "code",
   "execution_count": 3,
   "id": "a083d626-912a-4bf0-baae-a930e85d5294",
   "metadata": {},
   "outputs": [],
   "source": [
    "#helping function \n",
    "def total_spending(request_spending, account_id, category):\n",
    "    transaction_history = extract_transaction(request_spending, account_id)\n",
    "    for transac in transaction_history:\n",
    "        if transac[\"category\"] == category:\n",
    "            return category, transac[\"amount\"]\n",
    "        else:\n",
    "            continue\n",
    "\n",
    "total_spending( request_spending, \"Mahek\" , \"Creative\" )"
   ]
  },
  {
   "cell_type": "code",
   "execution_count": 4,
   "id": "60b6297c-d824-43cd-9a03-3131cb3f7f2f",
   "metadata": {},
   "outputs": [
    {
     "data": {
      "text/plain": [
       "3000.0"
      ]
     },
     "execution_count": 4,
     "metadata": {},
     "output_type": "execute_result"
    }
   ],
   "source": [
    "def account_balance(request_spending, account_id):\n",
    "    if account_id in request_spending:\n",
    "        return request_spending[account_id][\"balance\"]\n",
    "    else:\n",
    "        return 0.0000\n",
    "\n",
    "account_balance(request_spending, \"Mahek\")    "
   ]
  },
  {
   "cell_type": "code",
   "execution_count": 5,
   "id": "f2c286c4-f50d-45b5-a2f8-550100f3ad9a",
   "metadata": {},
   "outputs": [
    {
     "data": {
      "text/plain": [
       "0"
      ]
     },
     "execution_count": 5,
     "metadata": {},
     "output_type": "execute_result"
    }
   ],
   "source": [
    "def  money_owed(request_spending, account_id):\n",
    "    transaction_history = extract_transaction(request_spending, account_id)\n",
    "    amount =[transac[\"amount\"] for transac in transaction_history]\n",
    "    owed_amnt = request_spending[account_id][\"balance\"] - sum(amount) \n",
    "    return owed_amnt if owed_amnt < 0 else 0\n",
    "\n",
    "money_owed(request_spending, \"Mahek\")"
   ]
  }
 ],
 "metadata": {
  "kernelspec": {
   "display_name": "Python 3 (ipykernel)",
   "language": "python",
   "name": "python3"
  },
  "language_info": {
   "codemirror_mode": {
    "name": "ipython",
    "version": 3
   },
   "file_extension": ".py",
   "mimetype": "text/x-python",
   "name": "python",
   "nbconvert_exporter": "python",
   "pygments_lexer": "ipython3",
   "version": "3.12.3"
  }
 },
 "nbformat": 4,
 "nbformat_minor": 5
}
